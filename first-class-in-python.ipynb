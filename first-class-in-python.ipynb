{
 "cells": [
  {
   "cell_type": "markdown",
   "metadata": {},
   "source": [
    "# Python Basics\n",
    "\n",
    "This is a collection of exercises that I wrote as a refresher of key Python features.\n",
    "\n",
    "## Built-in datatypes and variable binding\n",
    "Python uses [dynamic typing](http://stackoverflow.com/questions/11328920/is-python-strongly-typed). In short, this means that the type of data in a variable is not explicitly identified in a program, like it is in C++ or Java. "
   ]
  },
  {
   "cell_type": "code",
   "execution_count": 17,
   "metadata": {
    "collapsed": false
   },
   "outputs": [
    {
     "name": "stdout",
     "output_type": "stream",
     "text": [
      "2 <type 'int'>\n",
      "<type 'float'>\n",
      "3.0 <type 'float'>\n",
      "qfrm <type 'str'>\n",
      "True <type 'bool'>\n"
     ]
    }
   ],
   "source": [
    "x=2;\n",
    "print x, type(x);\n",
    "print type(1.0);\n",
    "x=x+1.0;\n",
    "print x, type(x);\n",
    "x='qfrm';\n",
    "print x,type(x);\n",
    "x=False; \n",
    "x=not x;\n",
    "print x, type(x);"
   ]
  },
  {
   "cell_type": "markdown",
   "metadata": {},
   "source": [
    "## ints and floats"
   ]
  },
  {
   "cell_type": "code",
   "execution_count": 89,
   "metadata": {
    "collapsed": false
   },
   "outputs": [
    {
     "name": "stdout",
     "output_type": "stream",
     "text": [
      "0\n"
     ]
    }
   ],
   "source": [
    "a=3;\n",
    "b=6;\n",
    "print b%a;\n"
   ]
  },
  {
   "cell_type": "markdown",
   "metadata": {},
   "source": [
    "### boolean"
   ]
  },
  {
   "cell_type": "code",
   "execution_count": 25,
   "metadata": {
    "collapsed": false
   },
   "outputs": [
    {
     "name": "stdout",
     "output_type": "stream",
     "text": [
      "False\n",
      "a is True\n",
      "True\n"
     ]
    }
   ],
   "source": [
    "# a is True\n",
    "# b is False\n",
    "# a and b is False\n",
    "# a or b is True\n",
    "a= True;\n",
    "b= False;\n",
    "print a and b;\n",
    "print \"a is\",a;\n",
    "print a and not b;"
   ]
  },
  {
   "cell_type": "markdown",
   "metadata": {},
   "source": [
    "### Strings"
   ]
  },
  {
   "cell_type": "code",
   "execution_count": 33,
   "metadata": {
    "collapsed": false
   },
   "outputs": [
    {
     "name": "stdout",
     "output_type": "stream",
     "text": [
      "['hello', 'world']\n",
      "hello_world\n"
     ]
    }
   ],
   "source": [
    "# Hello World\n",
    "# ['Hello', 'World']\n",
    "# Hello_World\n",
    "a='hello';\n",
    "b='world';\n",
    "c=a+' '+b;\n",
    "\n",
    "words=c.split();\n",
    "print words;\n",
    "print '_'.join(words);"
   ]
  },
  {
   "cell_type": "markdown",
   "metadata": {},
   "source": [
    "### Lists"
   ]
  },
  {
   "cell_type": "code",
   "execution_count": 49,
   "metadata": {
    "collapsed": false
   },
   "outputs": [
    {
     "name": "stdout",
     "output_type": "stream",
     "text": [
      "[1]\n"
     ]
    }
   ],
   "source": [
    "x=[1,2,3,4,5];\n",
    "\n",
    "x=range(0,10);\n",
    "print x[2:];\n",
    "\n"
   ]
  },
  {
   "cell_type": "code",
   "execution_count": 43,
   "metadata": {
    "collapsed": false
   },
   "outputs": [
    {
     "name": "stdout",
     "output_type": "stream",
     "text": [
      "[(0, 0), (1, 1), (2, 4), (3, 9), (4, 16), (5, 25), (6, 36), (7, 49), (8, 64), (9, 81)]\n",
      "[(0, 1), (1, 2), (2, 3), (3, 4), (4, 5), (5, 6), (6, 7), (7, 8), (8, 9), (9, 10)]\n"
     ]
    }
   ],
   "source": [
    "#List comprehension\n",
    "print [(x,x**2) for x in range(0,10)];\n",
    "print[(x,x+1) for x in range (0,0+10)];"
   ]
  },
  {
   "cell_type": "markdown",
   "metadata": {},
   "source": [
    "## Looping (for, while, reduce)"
   ]
  },
  {
   "cell_type": "code",
   "execution_count": 50,
   "metadata": {
    "collapsed": false
   },
   "outputs": [
    {
     "name": "stdout",
     "output_type": "stream",
     "text": [
      "5050\n"
     ]
    }
   ],
   "source": [
    "#for\n",
    "#sum integers from 1 to 100\n",
    "z=0;\n",
    "for n in range(1,101):\n",
    "   z=z+n;\n",
    "print z;\n",
    "    "
   ]
  },
  {
   "cell_type": "code",
   "execution_count": 51,
   "metadata": {
    "collapsed": false
   },
   "outputs": [
    {
     "name": "stdout",
     "output_type": "stream",
     "text": [
      "5050\n"
     ]
    }
   ],
   "source": [
    "#while\n",
    "#sum integers from 1 to 100\n",
    "z=0;\n",
    "n=1;\n",
    "while n<101:\n",
    "    z=z+n;\n",
    "    n=n+1;\n",
    "print z;"
   ]
  },
  {
   "cell_type": "code",
   "execution_count": null,
   "metadata": {
    "collapsed": false
   },
   "outputs": [],
   "source": [
    "#reduce\n",
    "#sum integers from 1 to 100\n",
    "print reduce(lambda n, sum_: n+sum_, range(1,101));"
   ]
  },
  {
   "cell_type": "code",
   "execution_count": 11,
   "metadata": {
    "collapsed": false
   },
   "outputs": [
    {
     "name": "stdout",
     "output_type": "stream",
     "text": [
      "5050\n"
     ]
    }
   ],
   "source": [
    "#Python's sum\n",
    "print sum(range(1,101))"
   ]
  },
  {
   "cell_type": "code",
   "execution_count": 55,
   "metadata": {
    "collapsed": false
   },
   "outputs": [
    {
     "name": "stdout",
     "output_type": "stream",
     "text": [
      "5050.0\n"
     ]
    }
   ],
   "source": [
    "#preferred way to sum floating point (faster)\n",
    "import math\n",
    "print math.fsum(range(1,101))"
   ]
  },
  {
   "cell_type": "markdown",
   "metadata": {},
   "source": [
    "### Conditional execution (if)\n"
   ]
  },
  {
   "cell_type": "code",
   "execution_count": 80,
   "metadata": {
    "collapsed": false
   },
   "outputs": [
    {
     "name": "stdout",
     "output_type": "stream",
     "text": [
      "0.063844841629 is in the bootom quartile\n"
     ]
    }
   ],
   "source": [
    "import random\n",
    "r = random.random();\n",
    "\n",
    "if r<0.25:\n",
    "    print r,\"is in the bootom quartile\";\n",
    "else:\n",
    "    print r;"
   ]
  },
  {
   "cell_type": "markdown",
   "metadata": {},
   "source": [
    "### Dictionaries\n",
    "A dictionary is like a list of key:value pairs. you can liik things up quickly by key. "
   ]
  },
  {
   "cell_type": "code",
   "execution_count": 81,
   "metadata": {
    "collapsed": false
   },
   "outputs": [
    {
     "name": "stdout",
     "output_type": "stream",
     "text": [
      "31\n"
     ]
    }
   ],
   "source": [
    "prices={'Jan':31,'Feb':30};\n",
    "print prices['Jan'];"
   ]
  },
  {
   "cell_type": "code",
   "execution_count": 82,
   "metadata": {
    "collapsed": false
   },
   "outputs": [
    {
     "name": "stdout",
     "output_type": "stream",
     "text": [
      "{' ': 0, ',': 0, 'T': 0, 'a': 0, 'c': 0, 'b': 0, 'e': 0, 'd': 0, 'g': 0, 'f': 0, 'i': 0, 'h': 0, 'k': 0, 'j': 0, 'm': 0, 'l': 0, 'o': 0, 'n': 0, 'q': 0, 'p': 0, 's': 0, 'r': 0, 'u': 0, 't': 0, 'w': 0, 'v': 0, 'y': 0, 'z': 0}\n",
      "{' ': 8, ',': 1, 'T': 1, 'a': 1, 'c': 1, 'b': 1, 'e': 3, 'd': 1, 'g': 1, 'f': 1, 'i': 1, 'h': 2, 'k': 1, 'j': 1, 'm': 1, 'l': 1, 'o': 4, 'n': 1, 'q': 1, 'p': 1, 's': 2, 'r': 3, 'u': 2, 't': 1, 'w': 1, 'v': 1, 'y': 1, 'z': 1}\n"
     ]
    }
   ],
   "source": [
    "#distribution of characters in a string\n",
    "s = \"The quick brown fox jumps over the lazy dog.\"\n",
    "s=\"The quick brown for jumps over the lazy dogs,\";\n",
    "d={c:0 for c in s};\n",
    "print d;\n",
    "for c in s:\n",
    "    d[c]=d[c]+1;\n",
    "print d;\n",
    "    "
   ]
  },
  {
   "cell_type": "markdown",
   "metadata": {},
   "source": [
    "## Functions"
   ]
  },
  {
   "cell_type": "code",
   "execution_count": 83,
   "metadata": {
    "collapsed": false
   },
   "outputs": [
    {
     "name": "stdout",
     "output_type": "stream",
     "text": [
      "720\n"
     ]
    }
   ],
   "source": [
    "def factorial(n):\n",
    "    if n<2:\n",
    "        return 1;\n",
    "    return n*factorial(n-1);\n",
    "print factorial(6);\n",
    "  \n"
   ]
  },
  {
   "cell_type": "code",
   "execution_count": 101,
   "metadata": {
    "collapsed": false
   },
   "outputs": [
    {
     "name": "stdout",
     "output_type": "stream",
     "text": [
      "16\n"
     ]
    }
   ],
   "source": [
    "def gcd(a, b):\n",
    "    while b%a>0:\n",
    "        temp=a;\n",
    "        a=b%a;\n",
    "        b=temp;\n",
    "    return a;\n",
    "\n",
    "\n",
    "   \n",
    "print gcd(1024,144)"
   ]
  }
 ],
 "metadata": {
  "anaconda-cloud": {},
  "kernelspec": {
   "display_name": "Python [Root]",
   "language": "python",
   "name": "Python [Root]"
  },
  "language_info": {
   "codemirror_mode": {
    "name": "ipython",
    "version": 2
   },
   "file_extension": ".py",
   "mimetype": "text/x-python",
   "name": "python",
   "nbconvert_exporter": "python",
   "pygments_lexer": "ipython2",
   "version": "2.7.12"
  }
 },
 "nbformat": 4,
 "nbformat_minor": 0
}
