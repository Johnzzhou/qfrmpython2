{
 "cells": [
  {
   "cell_type": "markdown",
   "metadata": {},
   "source": [
    "### 1.1\n",
    "What is the value of $\\sqrt{2}^{\\sqrt{2}^{{\\sqrt{2}^{...}}}}$?"
   ]
  },
  {
   "cell_type": "code",
   "execution_count": 15,
   "metadata": {
    "collapsed": false
   },
   "outputs": [
    {
     "name": "stdout",
     "output_type": "stream",
     "text": [
      "1.99997792487\n"
     ]
    }
   ],
   "source": [
    "import math\n",
    "exponent=1;\n",
    "epsilo=100;\n",
    "while epsilo>0.00001:\n",
    "    exponent=math.sqrt(2)**exponent;\n",
    "    temp=exponent;\n",
    "    exponent=math.sqrt(2)**exponent;\n",
    "    epsilo=exponent-temp;\n",
    "print exponent"
   ]
  },
  {
   "cell_type": "markdown",
   "metadata": {},
   "source": [
    "### 3.1\n",
    "You have a bag with two coins. One will come up heads 40% of the time, and the other will come up heads 60%. You pick a coin randomly, flip it and get a head. What is the probability it will be heads on the next flip?"
   ]
  },
  {
   "cell_type": "code",
   "execution_count": 39,
   "metadata": {
    "collapsed": false
   },
   "outputs": [
    {
     "name": "stdout",
     "output_type": "stream",
     "text": [
      "0.519138755981\n"
     ]
    }
   ],
   "source": [
    "import random\n",
    "\n",
    "def headsortails(probTails):\n",
    "    if random.random()<probTails:\n",
    "        return 0;\n",
    "   return 1;\n",
    "\n",
    "sum_=0\n",
    "heads=0;\n",
    "#for n in range(0,1000):\n",
    " #   coin1=math.floor(random.random()/0.6);\n",
    " #   heads+=coin1;\n",
    "#print heads\n",
    "secondFlipIsAHeadCount=0;\n",
    "firstFlipIsAHeadCount=0;\n",
    "firstsuccess=0;\n",
    "for trialCtr in range(0,1000):\n",
    "    if random.random()<0.5:\n",
    "        probTails=0.6;\n",
    "    else:\n",
    "        probTails=0.4;\n",
    "    coin=math.floor(random.random()/probTails);\n",
    "    if coin==1:\n",
    "        firstFlipIsAHeadCount+=1;\n",
    "        secondFlipIsAHeadCount+=headsortails(probTails);\n",
    "probestimate=float(secondFlipIsAHeadCount)/firstFlipIsAHeadCount;\n",
    "print probestimate;\n",
    "\n",
    "\n",
    "      \n"
   ]
  },
  {
   "cell_type": "markdown",
   "metadata": {},
   "source": [
    "## 3.1 object-oriented version\n",
    "Here we solve the same problem, but introducing objects to Python,\n",
    "\n",
    "A simplistic approach to oo design is to indentify the nouns in the problem description, and consider those to be potential\"classes\". A c;ass os a template. sort of like a cookde cutter for stamping out identical objects, ready for use.\n",
    "\n",
    "In this problem, we see coin and purse in the problem desscription. So let's make them in to classes.\n",
    "\n",
    "The \"methods\" of a class represent the actions we expect of the objects created from the class."
   ]
  },
  {
   "cell_type": "code",
   "execution_count": 35,
   "metadata": {
    "collapsed": false
   },
   "outputs": [
    {
     "name": "stdout",
     "output_type": "stream",
     "text": [
      "0.4\n",
      "0.536821705426\n",
      "<bound method Coin.flipIsHead of <__main__.Coin object at 0x000000000440A668>>\n"
     ]
    }
   ],
   "source": [
    "import numpy as np\n",
    "\n",
    "class Coin(object): #we capitalize the names of classes.\n",
    "    #almost always define a constructor, so that we \n",
    "    #can create instances(objects) of coin\n",
    "    def __init__(self, probHeads):\n",
    "        self.probHeads=probHeads\n",
    "        \n",
    "    def flipIsHead(self):\n",
    "        return np.random.random()<self.probHeads\n",
    "    \n",
    "    def nextNFlipsAreHeads(self,n):\n",
    "        for i in range(n):\n",
    "            if not self.flipIsHead():\n",
    "                return False\n",
    "        return True\n",
    "    \n",
    "class CoinBag(object):\n",
    "    def __init__(self):\n",
    "        self.coins=[]\n",
    "        \n",
    "    def addCoin(self, coin):\n",
    "        self.coins.append(coin)\n",
    "        \n",
    "    def pickRandomCoin(self):\n",
    "        return np.random.choice(self.coins)\n",
    "    \n",
    "cb=CoinBag()\n",
    "cb.addCoin(Coin(0.6))\n",
    "cb.addCoin(Coin(0.4))\n",
    "\n",
    "print cb.pickRandomCoin().probHeads\n",
    "\n",
    "\n",
    "\n",
    "#for n in range(0,1000):\n",
    " #   coin1=math.floor(random.random()/0.6);\n",
    " #   heads+=coin1;\n",
    "#print heads\n",
    "secondFlipIsAHeadCount=0;\n",
    "firstFlipIsAHeadCount=0;\n",
    "firstsuccess=0;\n",
    "for trialCtr in range(0,1000):\n",
    "    randomCoin=cb.pickRandomCoin()\n",
    "    if randomCoin.flipIsHead():\n",
    "        firstFlipIsAHeadCount+=1;\n",
    "        if randomCoin.flipIsHead():\n",
    "            secondFlipIsAHeadCount+=1;\n",
    "probestimate=float(secondFlipIsAHeadCount)/firstFlipIsAHeadCount;\n",
    "print probestimate;\n",
    "\n",
    "\n",
    "#c=Coin(0.6)\n",
    "#print c.probHeads\n",
    "\n",
    "#cb=CoinBag()\n",
    "#print cb,type(cb)\n",
    "\n",
    "c=Coin(0.6);\n",
    "print c.flipIsHead\n"
   ]
  },
  {
   "cell_type": "markdown",
   "metadata": {},
   "source": [
    "n### 3.1\n",
    "In front of you is a jar of 1000 coins. One of the coins has two heads, and the rest are fair coins. You choose a coin at random, and flip it ten times, getting all heads. What is the probability it is one of the fair coins?"
   ]
  },
  {
   "cell_type": "code",
   "execution_count": 45,
   "metadata": {
    "collapsed": false
   },
   "outputs": [
    {
     "name": "stdout",
     "output_type": "stream",
     "text": [
      "8 18 0.444444444444\n"
     ]
    }
   ],
   "source": [
    "cb=CoinBag()\n",
    "cb.addCoin(Coin(1))\n",
    "#for n in range(999):\n",
    "#    cb.addCoin(Coin(0.5))\n",
    "    \n",
    "[cb.addCoin(Coin(0.5)) for n in range(999)]\n",
    "trailCounter=0\n",
    "useabletrailCtr=0\n",
    "fairCoinCtr=0\n",
    "for trialCtr in range(0,10000):\n",
    "    randomCoin=cb.pickRandomCoin()\n",
    "    if randomCoin.nextNFlipsAreHeads(10):\n",
    "        useabletrailCtr+=1;\n",
    "        if randomCoin.probHeads<1:\n",
    "            fairCoinCtr+=1;\n",
    "print fairCoinCtr, useabletrailCtr, float(fairCoinCtr)/useabletrailCtr\n",
    "\n",
    "\n",
    "#twoheadcoins=0\n",
    "#cb=Coinbag()\n",
    "#for n in range(1000)\n",
    "#    cb.pickRandomCoin()\n",
    "#    if cb.nextNFlipsAreHeads(10):\n",
    "        \n",
    "\n",
    "\n",
    "\n",
    "#print len(cb.coins)\n",
    "\n",
    "\n",
    "\n",
    "\n"
   ]
  },
  {
   "cell_type": "markdown",
   "metadata": {},
   "source": [
    "### 3.5\n",
    "Starting at one vertex of a cube, and moving randomly from vertex to adjacent vertices, what is the expected number of moves until you reach the  vertex opposite from your starting point?"
   ]
  },
  {
   "cell_type": "code",
   "execution_count": 9,
   "metadata": {
    "collapsed": false
   },
   "outputs": [
    {
     "name": "stdout",
     "output_type": "stream",
     "text": [
      "9\n"
     ]
    }
   ],
   "source": [
    "way=1;\n",
    "import random\n",
    "count=0;\n",
    "state=1;\n",
    "n=0;\n",
    "for count in range(0,10000):\n",
    "    while state!=4 :\n",
    "        while state==1 or state==2:\n",
    "            go=random.random();\n",
    "            way=way+1;\n",
    "        \n",
    "            if go>2/3.0:\n",
    "                state=3;\n",
    "           \n",
    "            else: \n",
    "                state=1;way=way+1;\n",
    "    \n",
    "        go=random.random();\n",
    "        \n",
    "        if go>2/3.0:\n",
    "            state=2;\n",
    "        else: \n",
    "            state=4;\n",
    "        way=way+1;\n",
    "    state=1;\n",
    "    count=count+1;\n",
    "        \n",
    "    \n",
    "print way/10000\n",
    "    "
   ]
  },
  {
   "cell_type": "markdown",
   "metadata": {},
   "source": [
    "### Monte Hall Problem\n",
    "\n",
    "You are a contestant on a game show. you have 3 doors in front of you. Behind two are goats. Unattractive goats. Behind the other door is a brand new Tesla. The game show host asks you to choose a door. After you do, he opens one of the remaining doors, and there stands a goat.The game show host asks you if you'd like to switch doors. What do you do."
   ]
  },
  {
   "cell_type": "code",
   "execution_count": null,
   "metadata": {
    "collapsed": true
   },
   "outputs": [],
   "source": []
  },
  {
   "cell_type": "markdown",
   "metadata": {},
   "source": [
    "### 3.8\n",
    "You have a spinner that generates random numbers that are uniform between 0 and 1. You sum the spins until the sum is greater than one. What is the expected number of spins?"
   ]
  },
  {
   "cell_type": "code",
   "execution_count": 55,
   "metadata": {
    "collapsed": false
   },
   "outputs": [
    {
     "name": "stdout",
     "output_type": "stream",
     "text": [
      "2.753\n"
     ]
    }
   ],
   "source": [
    "import numpy as np\n",
    "class Spinner(object):\n",
    "    def __init__(self):\n",
    "        self.total=0\n",
    "        self.spinCounter=0\n",
    "        \n",
    "    def spin(self):\n",
    "        self.total += np.random.random()\n",
    "        self.spinCounter+=1\n",
    "        \n",
    "    def reset(self):\n",
    "        self.total=0\n",
    "        self.spinCounter=0\n",
    "        \n",
    "    def spinUntilGreaterThanOne(self):\n",
    "        while self.total<1:\n",
    "            self.spin()\n",
    "        return self.spinCounter\n",
    "    \n",
    "spinner=Spinner()\n",
    "total=0\n",
    "for n in range(1000):\n",
    "    total1=spinner.spinUntilGreaterThanOne()\n",
    "    total=total1+total\n",
    "    spinner.reset()\n",
    "    \n",
    "print float(total)/1000\n",
    "    \n",
    "        \n"
   ]
  },
  {
   "cell_type": "code",
   "execution_count": 54,
   "metadata": {
    "collapsed": false
   },
   "outputs": [
    {
     "name": "stdout",
     "output_type": "stream",
     "text": [
      "Populating the interactive namespace from numpy and matplotlib\n"
     ]
    },
    {
     "ename": "NameError",
     "evalue": "name 'trails' is not defined",
     "output_type": "error",
     "traceback": [
      "\u001b[1;31m---------------------------------------------------------------------------\u001b[0m",
      "\u001b[1;31mNameError\u001b[0m                                 Traceback (most recent call last)",
      "\u001b[1;32m<ipython-input-54-df0be5ed2559>\u001b[0m in \u001b[0;36m<module>\u001b[1;34m()\u001b[0m\n\u001b[0;32m      3\u001b[0m \u001b[1;32mimport\u001b[0m \u001b[0mmatplotlib\u001b[0m\u001b[1;33m.\u001b[0m\u001b[0mpyplot\u001b[0m \u001b[1;32mas\u001b[0m \u001b[0mplt\u001b[0m\u001b[1;33m\u001b[0m\u001b[0m\n\u001b[0;32m      4\u001b[0m \u001b[1;33m\u001b[0m\u001b[0m\n\u001b[1;32m----> 5\u001b[1;33m \u001b[0mnumbins\u001b[0m\u001b[1;33m=\u001b[0m\u001b[0mnp\u001b[0m\u001b[1;33m.\u001b[0m\u001b[0mmax\u001b[0m\u001b[1;33m(\u001b[0m\u001b[0mtrails\u001b[0m\u001b[1;33m)\u001b[0m\u001b[1;33m-\u001b[0m\u001b[0mnp\u001b[0m\u001b[1;33m.\u001b[0m\u001b[0mmin\u001b[0m\u001b[1;33m(\u001b[0m\u001b[0mtrails\u001b[0m\u001b[1;33m)\u001b[0m\u001b[1;33m+\u001b[0m\u001b[1;36m1\u001b[0m\u001b[1;33m\u001b[0m\u001b[0m\n\u001b[0m\u001b[0;32m      6\u001b[0m \u001b[0mplt\u001b[0m\u001b[1;33m.\u001b[0m\u001b[0mhist\u001b[0m\u001b[1;33m(\u001b[0m\u001b[0mtrails\u001b[0m\u001b[1;33m,\u001b[0m\u001b[0mbins\u001b[0m\u001b[1;33m=\u001b[0m\u001b[0mnumBins\u001b[0m\u001b[1;33m,\u001b[0m\u001b[0mnormed\u001b[0m\u001b[1;33m=\u001b[0m\u001b[0mTrue\u001b[0m\u001b[1;33m,\u001b[0m\u001b[0mgrid\u001b[0m\u001b[1;33m=\u001b[0m\u001b[0mTrue\u001b[0m\u001b[1;33m,\u001b[0m \u001b[0malign\u001b[0m\u001b[1;33m=\u001b[0m\u001b[1;34m'left'\u001b[0m\u001b[1;33m,\u001b[0m\u001b[0mrwidth\u001b[0m\u001b[1;33m=\u001b[0m\u001b[1;36m0.3\u001b[0m\u001b[1;33m,\u001b[0m\u001b[0mrange\u001b[0m\u001b[1;33m=\u001b[0m\u001b[1;33m(\u001b[0m\u001b[1;36m2\u001b[0m\u001b[1;33m,\u001b[0m\u001b[1;36m2\u001b[0m\u001b[1;33m+\u001b[0m\u001b[0mnumBins\u001b[0m\u001b[1;33m)\u001b[0m\u001b[1;33m)\u001b[0m\u001b[1;33m\u001b[0m\u001b[0m\n",
      "\u001b[1;31mNameError\u001b[0m: name 'trails' is not defined"
     ]
    }
   ],
   "source": [
    "#need this to get figure to appear in Jupyter\n",
    "%pylab inline\n",
    "import matplotlib.pyplot as plt\n",
    "\n",
    "numbins=np.max(trails)-np.min(trails)+1\n",
    "plt.hist(trails,bins=numBins,normed=True,grid=True, align='left',rwidth=0.3,range=(2,2+numBins))"
   ]
  },
  {
   "cell_type": "markdown",
   "metadata": {},
   "source": [
    "### 4.4\n",
    "You have a basket of $n$ assets. The asset returns are multivariate normal with zero mean. Correlation between any pair of assets is 1/2. What is the probability that $k$ of the assets will have positive return?"
   ]
  },
  {
   "cell_type": "code",
   "execution_count": null,
   "metadata": {
    "collapsed": false
   },
   "outputs": [],
   "source": []
  },
  {
   "cell_type": "markdown",
   "metadata": {},
   "source": [
    "### 3.10\n",
    "A stick is broken randomly into 3 pieces. What is the probability of the pieces being able to form a triangle?"
   ]
  },
  {
   "cell_type": "code",
   "execution_count": null,
   "metadata": {
    "collapsed": false
   },
   "outputs": [],
   "source": []
  },
  {
   "cell_type": "markdown",
   "metadata": {},
   "source": [
    "### 3.11\n",
    "A stick is broken randomly into two pieces. The larger piece is then broken randomly into two pieces. What is the probability of the pieces being able to form a triangle?"
   ]
  },
  {
   "cell_type": "code",
   "execution_count": null,
   "metadata": {
    "collapsed": false
   },
   "outputs": [],
   "source": []
  },
  {
   "cell_type": "markdown",
   "metadata": {},
   "source": [
    "### 5.10\n",
    "Suppose there are 36 students in the QFRM program, each assigned a unique integer from 1 to 36. Thirty-six quarters are laid out on a table in a row, heads up. Each student goes to the table, and if they are assigned the number $n$, they turn over the $n$th coin, the $2n$th coin, and so on. So, for example, the student who is assigned 15 will turn over the 15th and 30th coins. When everyone is done, how many tails are showing?"
   ]
  },
  {
   "cell_type": "code",
   "execution_count": null,
   "metadata": {
    "collapsed": false
   },
   "outputs": [],
   "source": []
  }
 ],
 "metadata": {
  "anaconda-cloud": {},
  "kernelspec": {
   "display_name": "Python [Root]",
   "language": "python",
   "name": "Python [Root]"
  },
  "language_info": {
   "codemirror_mode": {
    "name": "ipython",
    "version": 2
   },
   "file_extension": ".py",
   "mimetype": "text/x-python",
   "name": "python",
   "nbconvert_exporter": "python",
   "pygments_lexer": "ipython2",
   "version": "2.7.12"
  }
 },
 "nbformat": 4,
 "nbformat_minor": 0
}
